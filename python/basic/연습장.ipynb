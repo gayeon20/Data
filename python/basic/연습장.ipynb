{
 "cells": [
  {
   "cell_type": "code",
   "execution_count": 5,
   "id": "5d45bd08",
   "metadata": {},
   "outputs": [],
   "source": [
    "list_name = [\"variable1\", \"variable2\", 3, 4]"
   ]
  },
  {
   "cell_type": "code",
   "execution_count": 9,
   "id": "7ae34587",
   "metadata": {},
   "outputs": [
    {
     "data": {
      "text/plain": [
       "['variable1', 'variable2', 3]"
      ]
     },
     "execution_count": 9,
     "metadata": {},
     "output_type": "execute_result"
    }
   ],
   "source": [
    "list_name"
   ]
  },
  {
   "cell_type": "code",
   "execution_count": 8,
   "id": "e2f96734",
   "metadata": {},
   "outputs": [],
   "source": [
    "del list_name[3]"
   ]
  },
  {
   "cell_type": "code",
   "execution_count": null,
   "id": "ba78a6bc",
   "metadata": {},
   "outputs": [],
   "source": []
  }
 ],
 "metadata": {
  "kernelspec": {
   "display_name": "Python 3 (ipykernel)",
   "language": "python",
   "name": "python3"
  },
  "language_info": {
   "codemirror_mode": {
    "name": "ipython",
    "version": 3
   },
   "file_extension": ".py",
   "mimetype": "text/x-python",
   "name": "python",
   "nbconvert_exporter": "python",
   "pygments_lexer": "ipython3",
   "version": "3.11.5"
  }
 },
 "nbformat": 4,
 "nbformat_minor": 5
}
